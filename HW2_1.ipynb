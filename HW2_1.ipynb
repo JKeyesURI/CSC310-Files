{
 "cells": [
  {
   "cell_type": "code",
   "execution_count": 56,
   "id": "42f1536f",
   "metadata": {},
   "outputs": [
    {
     "name": "stdout",
     "output_type": "stream",
     "text": [
      "This data set contains inflation and growth on stocks\n",
      "The data set has 5 columns and 31 rows\n",
      "All columns contain numerical data\n",
      "The first column of numbers should be ignored, and the Unnamed: 0 column is just the row numbers, should also be ignored\n",
      "Rows 1, 2, and 31 have no data for the columns returns, growth, and inflation\n",
      "\n",
      "\n",
      "    Unnamed: 0  returns  growth  inflation  growth2  inflation2\n",
      "0            1      NaN     NaN        NaN      3.9         2.2\n",
      "1            2      NaN     NaN        NaN      4.0         2.1\n",
      "2            3     53.0     6.7       -0.4     -1.3         0.6\n",
      "3            4     31.2     2.1        0.4      5.6         1.3\n",
      "4            5      3.7     1.8        2.9      2.1         1.9\n",
      "5            6    -13.8    -0.4        3.0      1.7         3.2\n",
      "6            7     41.7     6.0        1.7     -0.8         1.8\n",
      "7            8     10.5     2.1        1.5      5.8         2.2\n",
      "8            9     -1.3     2.6        1.8      2.2         1.9\n",
      "9           10     26.1     5.8        0.8      2.6         1.2\n",
      "10          11    -10.5     4.0        1.8      5.3         1.8\n",
      "11          12     21.2     5.3        1.6      4.1         1.5\n",
      "12          13     15.5     6.0        1.0      5.3         1.7\n",
      "13          14     10.2     6.0        2.3      5.8         1.7\n",
      "14          15    -13.3     2.7        3.2      5.8         3.1\n",
      "15          16     21.3     4.6        2.7      2.9         2.5\n",
      "16          17      6.8     2.8        4.3      4.1         4.5\n",
      "17          18    -13.5    -0.2        5.0      2.4         4.3\n",
      "18          19     -0.4     3.4        4.4     -0.3         4.6\n",
      "19          20     10.5     5.7        3.8      2.8         4.7\n",
      "20          21     15.4     5.8        3.6      5.0         4.0\n",
      "21          22    -22.6    -0.6        7.9      5.2         6.2\n",
      "22          23    -37.3    -1.2       10.8     -0.5        10.5\n",
      "23          24     31.2     5.4        6.0     -1.3         8.0\n",
      "24          25     19.1     5.5        4.7      4.9         5.7\n",
      "25          26    -13.1     5.0        5.9      4.7         6.5\n",
      "26          27     -1.3     2.8        7.9      5.3         7.3\n",
      "27          28      8.6    -0.3        9.8      2.5         9.2\n",
      "28          29     22.2     2.6       10.2     -0.2        10.7\n",
      "29          30    -12.2    -1.9        7.3      1.9         9.2\n",
      "30          31      NaN     NaN        NaN     -2.5         5.7\n",
      "\n",
      "\n",
      "Returns Mean, Min and Max\n"
     ]
    },
    {
     "data": {
      "text/plain": [
       "7.460714285714286"
      ]
     },
     "execution_count": 56,
     "metadata": {},
     "output_type": "execute_result"
    },
    {
     "data": {
      "text/plain": [
       "-37.3"
      ]
     },
     "execution_count": 56,
     "metadata": {},
     "output_type": "execute_result"
    },
    {
     "data": {
      "text/plain": [
       "53.0"
      ]
     },
     "execution_count": 56,
     "metadata": {},
     "output_type": "execute_result"
    },
    {
     "name": "stdout",
     "output_type": "stream",
     "text": [
      "\n",
      "\n",
      "Growth Mean, Min and Max\n"
     ]
    },
    {
     "data": {
      "text/plain": [
       "3.2178571428571425"
      ]
     },
     "execution_count": 56,
     "metadata": {},
     "output_type": "execute_result"
    },
    {
     "data": {
      "text/plain": [
       "-1.9"
      ]
     },
     "execution_count": 56,
     "metadata": {},
     "output_type": "execute_result"
    },
    {
     "data": {
      "text/plain": [
       "6.7"
      ]
     },
     "execution_count": 56,
     "metadata": {},
     "output_type": "execute_result"
    },
    {
     "name": "stdout",
     "output_type": "stream",
     "text": [
      "\n",
      "\n",
      "Inflation Mean, Min and Max\n"
     ]
    },
    {
     "data": {
      "text/plain": [
       "4.139285714285714"
      ]
     },
     "execution_count": 56,
     "metadata": {},
     "output_type": "execute_result"
    },
    {
     "data": {
      "text/plain": [
       "-0.4"
      ]
     },
     "execution_count": 56,
     "metadata": {},
     "output_type": "execute_result"
    },
    {
     "data": {
      "text/plain": [
       "10.8"
      ]
     },
     "execution_count": 56,
     "metadata": {},
     "output_type": "execute_result"
    },
    {
     "name": "stdout",
     "output_type": "stream",
     "text": [
      "\n",
      "\n",
      "Growth2 Mean, Min and Max\n"
     ]
    },
    {
     "data": {
      "text/plain": [
       "2.870967741935484"
      ]
     },
     "execution_count": 56,
     "metadata": {},
     "output_type": "execute_result"
    },
    {
     "data": {
      "text/plain": [
       "-2.5"
      ]
     },
     "execution_count": 56,
     "metadata": {},
     "output_type": "execute_result"
    },
    {
     "data": {
      "text/plain": [
       "5.8"
      ]
     },
     "execution_count": 56,
     "metadata": {},
     "output_type": "execute_result"
    },
    {
     "name": "stdout",
     "output_type": "stream",
     "text": [
      "\n",
      "\n",
      "Inflation2 Mean, Min and Max\n"
     ]
    },
    {
     "data": {
      "text/plain": [
       "4.251612903225807"
      ]
     },
     "execution_count": 56,
     "metadata": {},
     "output_type": "execute_result"
    },
    {
     "data": {
      "text/plain": [
       "0.6"
      ]
     },
     "execution_count": 56,
     "metadata": {},
     "output_type": "execute_result"
    },
    {
     "data": {
      "text/plain": [
       "10.7"
      ]
     },
     "execution_count": 56,
     "metadata": {},
     "output_type": "execute_result"
    },
    {
     "name": "stdout",
     "output_type": "stream",
     "text": [
      "\n",
      "\n",
      "Data Histogram\n"
     ]
    },
    {
     "data": {
      "text/plain": [
       "array([[<AxesSubplot:title={'center':'Unnamed: 0'}>,\n",
       "        <AxesSubplot:title={'center':'returns'}>],\n",
       "       [<AxesSubplot:title={'center':'growth'}>,\n",
       "        <AxesSubplot:title={'center':'inflation'}>],\n",
       "       [<AxesSubplot:title={'center':'growth2'}>,\n",
       "        <AxesSubplot:title={'center':'inflation2'}>]], dtype=object)"
      ]
     },
     "execution_count": 56,
     "metadata": {},
     "output_type": "execute_result"
    },
    {
     "data": {
      "image/png": "[encoded data removed]",
      "text/plain": [
       "<Figure size 640x480 with 6 Axes>"
      ]
     },
     "metadata": {},
     "output_type": "display_data"
    }
   ],
   "source": [
    "import pandas\n",
    "import matplotlib.pyplot as plot\n",
    "from IPython.core.interactiveshell import InteractiveShell\n",
    "InteractiveShell.ast_node_interactivity = 'all'\n",
    "\n",
    "url = \"https://vincentarelbundock.github.io/Rdatasets/csv/AER/BenderlyZwick.csv\"\n",
    "data = pandas.read_csv(url)\n",
    "\n",
    "print(\"This data set contains inflation and growth on stocks\")\n",
    "print(\"The data set has 5 columns and 31 rows\")\n",
    "print(\"All columns contain numerical data\")\n",
    "print(\"The first column of numbers should be ignored, and the Unnamed: 0 column is just the row numbers, should also be ignored\")\n",
    "print(\"All columns contain unique data\")\n",
    "print(\"Rows 1, 2, and 31 have no data for the columns returns, growth, and inflation\")\n",
    "print(\"\\n\")\n",
    "\n",
    "print(data)\n",
    "print(\"\\n\")\n",
    "\n",
    "print(\"Returns Mean, Min and Max\")\n",
    "data['returns'].mean()\n",
    "data['returns'].min()\n",
    "data['returns'].max()\n",
    "print(\"\\n\")\n",
    "\n",
    "print(\"Growth Mean, Min and Max\")\n",
    "data['growth'].mean()\n",
    "data['growth'].min()\n",
    "data['growth'].max()\n",
    "print(\"\\n\")\n",
    "\n",
    "print(\"Inflation Mean, Min and Max\")\n",
    "data['inflation'].mean()\n",
    "data['inflation'].min()\n",
    "data['inflation'].max()\n",
    "print(\"\\n\")\n",
    "\n",
    "print(\"Growth2 Mean, Min and Max\")\n",
    "data['growth2'].mean()\n",
    "data['growth2'].min()\n",
    "data['growth2'].max()\n",
    "print(\"\\n\")\n",
    "\n",
    "print(\"Inflation2 Mean, Min and Max\")\n",
    "data['inflation2'].mean()\n",
    "data['inflation2'].min()\n",
    "data['inflation2'].max()\n",
    "print(\"\\n\")\n",
    "\n",
    "print(\"Data Histogram\")\n",
    "data.hist()\n"
   ]
  },
  {
   "cell_type": "code",
   "execution_count": null,
   "id": "1b46027b",
   "metadata": {},
   "outputs": [],
   "source": []
  }
 ],
 "metadata": {
  "kernelspec": {
   "display_name": "Python 3 (ipykernel)",
   "language": "python",
   "name": "python3"
  },
  "language_info": {
   "codemirror_mode": {
    "name": "ipython",
    "version": 3
   },
   "file_extension": ".py",
   "mimetype": "text/x-python",
   "name": "python",
   "nbconvert_exporter": "python",
   "pygments_lexer": "ipython3",
   "version": "3.9.13"
  }
 },
 "nbformat": 4,
 "nbformat_minor": 5
}
