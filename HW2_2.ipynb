{
 "cells": [
  {
   "cell_type": "code",
   "execution_count": 7,
   "id": "82580871",
   "metadata": {},
   "outputs": [
    {
     "name": "stdout",
     "output_type": "stream",
     "text": [
      "This data set contains Chinese Real National Income Data\n",
      "The data set has 5 columns and 37rows\n",
      "All columns contain numerical data\n",
      "The first column of numbers should be ignored, and the Unnamed: 0 column is just the row numbers, should also be ignored\n",
      "\n",
      "\n",
      "    Unnamed: 0  agriculture  commerce  construction  industry  transport\n",
      "0            1        100.0     100.0         100.0     100.0      100.0\n",
      "1            2        101.6     133.0         138.1     133.6      120.0\n",
      "2            3        103.3     136.4         133.3     159.1      136.0\n",
      "3            4        111.5     137.5         152.4     169.1      140.0\n",
      "4            5        116.5     146.6         261.9     219.1      164.0\n",
      "5            6        120.1     146.6         242.9     244.5      176.0\n",
      "6            7        120.3     155.9         367.0     383.5      270.8\n",
      "7            8        100.6     170.3         388.6     501.5      356.5\n",
      "8            9         83.6     164.1         394.0     541.4      383.6\n",
      "9           10         84.7     130.1         129.5     315.9      221.1\n",
      "10          11         88.7     117.7         161.9     267.4      171.5\n",
      "11          12         98.9     120.8         205.1     300.7      176.0\n",
      "12          13        111.9     123.9         259.0     374.9      198.6\n",
      "13          14        122.9     128.0         286.0     477.7      261.7\n",
      "14          15        131.9     155.9         313.0     598.5      297.8\n",
      "15          16        134.2     164.1         296.8     504.3      239.2\n",
      "16          17        131.6     151.8         237.5     458.6      225.6\n",
      "17          18        132.2     179.6         323.8     622.3      284.3\n",
      "18          19        139.8     199.2         421.0     863.0      343.0\n",
      "19          20        142.0     201.2         468.3     979.0      370.8\n",
      "20          21        140.5     208.0         452.5    1043.5      389.3\n",
      "21          22        153.1     224.5         457.8    1134.3      412.5\n",
      "22          23        159.2     220.6         484.1    1128.9      394.0\n",
      "23          24        162.3     220.6         542.0    1297.3      444.9\n",
      "24          25        159.1     214.8         568.3    1249.2      426.4\n",
      "25          26        155.1     242.0         578.8    1434.0      491.3\n",
      "26          27        161.2     296.4         573.5    1679.1      546.9\n",
      "27          28        171.5     316.8         584.1    1814.7      560.8\n",
      "28          29        168.4     318.8         757.7    2012.7      584.0\n",
      "29          30        180.4     379.4         770.0    2046.8      607.2\n",
      "30          31        201.6     397.5         806.9    2170.1      681.3\n",
      "31          32        218.7     449.1         954.3    2383.7      755.5\n",
      "32          33        247.0     499.5        1056.7    2738.8      852.8\n",
      "33          34        253.7     593.7        1310.6    3275.2     1024.3\n",
      "34          35        261.4     636.3        1540.0    3590.6     1140.2\n",
      "35          36        273.2     715.0        1744.8    4058.8     1269.9\n",
      "36          37        279.4     760.8        1884.0    4765.0     1413.6\n",
      "\n",
      "\n",
      "Agriculture Mean, Min and Max\n"
     ]
    },
    {
     "data": {
      "text/plain": [
       "151.94864864864863"
      ]
     },
     "execution_count": 7,
     "metadata": {},
     "output_type": "execute_result"
    },
    {
     "data": {
      "text/plain": [
       "83.6"
      ]
     },
     "execution_count": 7,
     "metadata": {},
     "output_type": "execute_result"
    },
    {
     "data": {
      "text/plain": [
       "279.4"
      ]
     },
     "execution_count": 7,
     "metadata": {},
     "output_type": "execute_result"
    },
    {
     "name": "stdout",
     "output_type": "stream",
     "text": [
      "\n",
      "\n",
      "Commerce Mean, Min and Max\n"
     ]
    },
    {
     "data": {
      "text/plain": [
       "260.98648648648646"
      ]
     },
     "execution_count": 7,
     "metadata": {},
     "output_type": "execute_result"
    },
    {
     "data": {
      "text/plain": [
       "100.0"
      ]
     },
     "execution_count": 7,
     "metadata": {},
     "output_type": "execute_result"
    },
    {
     "data": {
      "text/plain": [
       "760.8"
      ]
     },
     "execution_count": 7,
     "metadata": {},
     "output_type": "execute_result"
    },
    {
     "name": "stdout",
     "output_type": "stream",
     "text": [
      "\n",
      "\n",
      "Construction Mean, Min and Max\n"
     ]
    },
    {
     "data": {
      "text/plain": [
       "549.8972972972973"
      ]
     },
     "execution_count": 7,
     "metadata": {},
     "output_type": "execute_result"
    },
    {
     "data": {
      "text/plain": [
       "100.0"
      ]
     },
     "execution_count": 7,
     "metadata": {},
     "output_type": "execute_result"
    },
    {
     "data": {
      "text/plain": [
       "1884.0"
      ]
     },
     "execution_count": 7,
     "metadata": {},
     "output_type": "execute_result"
    },
    {
     "name": "stdout",
     "output_type": "stream",
     "text": [
      "\n",
      "\n",
      "Industry Mean, Min and Max\n"
     ]
    },
    {
     "data": {
      "text/plain": [
       "1244.237837837838"
      ]
     },
     "execution_count": 7,
     "metadata": {},
     "output_type": "execute_result"
    },
    {
     "data": {
      "text/plain": [
       "100.0"
      ]
     },
     "execution_count": 7,
     "metadata": {},
     "output_type": "execute_result"
    },
    {
     "data": {
      "text/plain": [
       "4765.0"
      ]
     },
     "execution_count": 7,
     "metadata": {},
     "output_type": "execute_result"
    },
    {
     "name": "stdout",
     "output_type": "stream",
     "text": [
      "\n",
      "\n",
      "Transport Mean, Min and Max\n"
     ]
    },
    {
     "data": {
      "text/plain": [
       "449.4972972972972"
      ]
     },
     "execution_count": 7,
     "metadata": {},
     "output_type": "execute_result"
    },
    {
     "data": {
      "text/plain": [
       "100.0"
      ]
     },
     "execution_count": 7,
     "metadata": {},
     "output_type": "execute_result"
    },
    {
     "data": {
      "text/plain": [
       "1413.6"
      ]
     },
     "execution_count": 7,
     "metadata": {},
     "output_type": "execute_result"
    },
    {
     "name": "stdout",
     "output_type": "stream",
     "text": [
      "\n",
      "\n",
      "Data Histogram\n"
     ]
    },
    {
     "data": {
      "text/plain": [
       "array([[<AxesSubplot:title={'center':'Unnamed: 0'}>,\n",
       "        <AxesSubplot:title={'center':'agriculture'}>],\n",
       "       [<AxesSubplot:title={'center':'commerce'}>,\n",
       "        <AxesSubplot:title={'center':'construction'}>],\n",
       "       [<AxesSubplot:title={'center':'industry'}>,\n",
       "        <AxesSubplot:title={'center':'transport'}>]], dtype=object)"
      ]
     },
     "execution_count": 7,
     "metadata": {},
     "output_type": "execute_result"
    },
    {
     "name": "stdout",
     "output_type": "stream",
     "text": [
      "\n",
      "\n",
      "The historgram shows that the data for all columns besides agriculture skew right.\n",
      "This is because the agricultural data has a much smaller range than the other columns.\n"
     ]
    },
    {
     "data": {
      "image/png": "[encoded data removed]",
      "text/plain": [
       "<Figure size 640x480 with 6 Axes>"
      ]
     },
     "metadata": {},
     "output_type": "display_data"
    }
   ],
   "source": [
    "import pandas\n",
    "import matplotlib.pyplot as plot\n",
    "from IPython.core.interactiveshell import InteractiveShell\n",
    "InteractiveShell.ast_node_interactivity = 'all'\n",
    "\n",
    "url = \"https://vincentarelbundock.github.io/Rdatasets/csv/AER/ChinaIncome.csv\"\n",
    "data = pandas.read_csv(url)\n",
    "\n",
    "print(\"This data set contains Chinese Real National Income Data\")\n",
    "print(\"The data set has 5 columns and 37 rows\")\n",
    "print(\"All columns contain numerical data\")\n",
    "print(\"The first column of numbers should be ignored, and the Unnamed: 0 column is just the row numbers, should also be ignored\")\n",
    "print(\"All columns contain unique data\")\n",
    "print(\"\\n\")\n",
    "\n",
    "print(data)\n",
    "print(\"\\n\")\n",
    "\n",
    "print(\"Agriculture Mean, Min and Max\")\n",
    "data['agriculture'].mean()\n",
    "data['agriculture'].min()\n",
    "data['agriculture'].max()\n",
    "print(\"\\n\")\n",
    "\n",
    "print(\"Commerce Mean, Min and Max\")\n",
    "data['commerce'].mean()\n",
    "data['commerce'].min()\n",
    "data['commerce'].max()\n",
    "print(\"\\n\")\n",
    "\n",
    "print(\"Construction Mean, Min and Max\")\n",
    "data['construction'].mean()\n",
    "data['construction'].min()\n",
    "data['construction'].max()\n",
    "print(\"\\n\")\n",
    "\n",
    "print(\"Industry Mean, Min and Max\")\n",
    "data['industry'].mean()\n",
    "data['industry'].min()\n",
    "data['industry'].max()\n",
    "print(\"\\n\")\n",
    "\n",
    "print(\"Transport Mean, Min and Max\")\n",
    "data['transport'].mean()\n",
    "data['transport'].min()\n",
    "data['transport'].max()\n",
    "print(\"\\n\")\n",
    "\n",
    "print(\"Data Histogram\")\n",
    "data.hist()\n",
    "print(\"\\n\")\n",
    "print(\"The historgram shows that the data for all columns besides agriculture skew right.\")\n",
    "print(\"This is because the agricultural data has a much smaller range than the other columns.\")\n"
   ]
  },
  {
   "cell_type": "code",
   "execution_count": null,
   "id": "2c127103",
   "metadata": {},
   "outputs": [],
   "source": []
  }
 ],
 "metadata": {
  "kernelspec": {
   "display_name": "Python 3 (ipykernel)",
   "language": "python",
   "name": "python3"
  },
  "language_info": {
   "codemirror_mode": {
    "name": "ipython",
    "version": 3
   },
   "file_extension": ".py",
   "mimetype": "text/x-python",
   "name": "python",
   "nbconvert_exporter": "python",
   "pygments_lexer": "ipython3",
   "version": "3.9.13"
  }
 },
 "nbformat": 4,
 "nbformat_minor": 5
}
